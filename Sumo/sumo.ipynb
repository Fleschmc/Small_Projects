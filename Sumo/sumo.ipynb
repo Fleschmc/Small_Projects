{
 "cells": [
  {
   "cell_type": "code",
   "execution_count": 3,
   "metadata": {},
   "outputs": [],
   "source": [
    "import requests\n",
    "from bs4 import BeautifulSoup\n",
    "from selenium import webdriver\n",
    "import pandas as pd"
   ]
  },
  {
   "cell_type": "code",
   "execution_count": 1,
   "metadata": {},
   "outputs": [],
   "source": [
    "link = 'http://www.sumo.or.jp/EnSumoDataRikishi/search/'\n",
    "link = 'http://www.sumo.or.jp/ResultRikishiData/search'"
   ]
  },
  {
   "cell_type": "code",
   "execution_count": 4,
   "metadata": {},
   "outputs": [],
   "source": [
    "browser = webdriver.Chrome(executable_path = '')\n",
    "browser.get(link)\n",
    "soup = BeautifulSoup(browser.page_source, 'html.parser')\n",
    "browser.close()"
   ]
  },
  {
   "cell_type": "code",
   "execution_count": 5,
   "metadata": {},
   "outputs": [
    {
     "data": {
      "text/plain": [
       "'/ResultRikishiData/profile/?id=2320'"
      ]
     },
     "execution_count": 5,
     "metadata": {},
     "output_type": "execute_result"
    }
   ],
   "source": [
    "soup.find('tbody').find('td').find('a')['href']"
   ]
  },
  {
   "cell_type": "code",
   "execution_count": 6,
   "metadata": {},
   "outputs": [
    {
     "data": {
      "text/plain": [
       "70"
      ]
     },
     "execution_count": 6,
     "metadata": {},
     "output_type": "execute_result"
    }
   ],
   "source": [
    "links = []\n",
    "browser = webdriver.Chrome(executable_path = '')\n",
    "browser.get(link)\n",
    "for i in range(14):\n",
    "    soup = BeautifulSoup(browser.page_source, 'html.parser')\n",
    "    tbody = soup.find('tbody').find_all('td', class_ = 'mdBr')\n",
    "    try:\n",
    "        for _ in range(len(tbody)):\n",
    "            if _ % 2 == 0:\n",
    "                links.append(soup.find('tbody').find_all('td', class_ = 'mdBr')[_].find('a')['href'])\n",
    "    except:\n",
    "        pass\n",
    "    browser.find_element_by_class_name('next').click()\n",
    "browser.close()\n",
    "len(links)"
   ]
  },
  {
   "cell_type": "code",
   "execution_count": 8,
   "metadata": {},
   "outputs": [],
   "source": [
    "master_list = []\n",
    "for i in links:\n",
    "    browser = webdriver.Chrome(executable_path = 'C:/Users/Diane/Desktop/chromedriver.exe')\n",
    "    browser.get('http://www.sumo.or.jp' + i)\n",
    "    soup = BeautifulSoup(browser.page_source, 'html.parser')\n",
    "    browser.close()\n",
    "    data_dict = {}\n",
    "    data_dict['Heya']           = soup.find('table', class_ = 'mdTable2').find_all('tr')[1].td.text.strip()\n",
    "    data_dict['Name']           = soup.find('table', class_ = 'mdTable2').find_all('tr')[2].td.text.strip()\n",
    "    data_dict['Ring Name']      = soup.find('table', class_ = 'mdTable2').find_all('tr')[3].td.text.strip().replace('→', '-')\n",
    "    data_dict['Rank']           = soup.find('table', class_ = 'mdTable2').find_all('tr')[4].td.text.strip()\n",
    "    data_dict['Date of Birth']  = soup.find('table', class_ = 'mdTable2').find_all('tr')[5].td.text.strip()\n",
    "    data_dict['Place of Birth'] = soup.find('table', class_ = 'mdTable2').find_all('tr')[6].td.text.strip()\n",
    "    data_dict['Height']         = soup.find('table', class_ = 'mdTable2').find_all('tr')[7].td.text.strip()\n",
    "    data_dict['Weight']         = soup.find('table', class_ = 'mdTable2').find_all('tr')[8].td.text.strip()\n",
    "    data_dict['Favorite Grip']  = soup.find('table', class_ = 'mdTable2').find_all('tr')[9].td.text.strip()\n",
    "    master_list.append(data_dict)"
   ]
  },
  {
   "cell_type": "code",
   "execution_count": 13,
   "metadata": {},
   "outputs": [],
   "source": [
    "# Initially I saved the data as a csv, but Excel has a hard time with Japanese characters hence the tsv format\n",
    "data = pd.DataFrame(master_list)\n",
    "data.to_csv('', index = False, sep = '\\t')"
   ]
  }
 ],
 "metadata": {
  "kernelspec": {
   "display_name": "Python 3",
   "language": "python",
   "name": "python3"
  },
  "language_info": {
   "codemirror_mode": {
    "name": "ipython",
    "version": 3
   },
   "file_extension": ".py",
   "mimetype": "text/x-python",
   "name": "python",
   "nbconvert_exporter": "python",
   "pygments_lexer": "ipython3",
   "version": "3.7.3"
  }
 },
 "nbformat": 4,
 "nbformat_minor": 4
}
