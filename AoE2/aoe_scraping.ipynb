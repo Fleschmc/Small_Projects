{
 "cells": [
  {
   "cell_type": "code",
   "execution_count": 1,
   "metadata": {},
   "outputs": [],
   "source": [
    "import pandas as pd\n",
    "import requests\n",
    "from bs4 import BeautifulSoup"
   ]
  },
  {
   "cell_type": "code",
   "execution_count": 122,
   "metadata": {},
   "outputs": [],
   "source": [
    "link = 'https://www.unitstatistics.com/age-of-empires2/'\n",
    "soup = BeautifulSoup(requests.get(link).content, 'html.parser')"
   ]
  },
  {
   "cell_type": "code",
   "execution_count": 123,
   "metadata": {},
   "outputs": [
    {
     "data": {
      "text/plain": [
       "<td class=\"column-16\"> </td>"
      ]
     },
     "execution_count": 123,
     "metadata": {},
     "output_type": "execute_result"
    }
   ],
   "source": [
    "soup.find('tbody').find('td', class_ = 'column-16')"
   ]
  },
  {
   "cell_type": "code",
   "execution_count": 124,
   "metadata": {},
   "outputs": [],
   "source": [
    "list_holder = []\n",
    "for i in range(1, 24):\n",
    "    list_holder.append(holder)\n",
    "    holder = []\n",
    "    for _ in soup.find('tbody').find_all('td', class_ = 'column-' + str(i)):\n",
    "        holder.append(_.text)"
   ]
  },
  {
   "cell_type": "code",
   "execution_count": 141,
   "metadata": {
    "scrolled": false
   },
   "outputs": [
    {
     "data": {
      "text/html": [
       "<div>\n",
       "<style scoped>\n",
       "    .dataframe tbody tr th:only-of-type {\n",
       "        vertical-align: middle;\n",
       "    }\n",
       "\n",
       "    .dataframe tbody tr th {\n",
       "        vertical-align: top;\n",
       "    }\n",
       "\n",
       "    .dataframe thead th {\n",
       "        text-align: right;\n",
       "    }\n",
       "</style>\n",
       "<table border=\"1\" class=\"dataframe\">\n",
       "  <thead>\n",
       "    <tr style=\"text-align: right;\">\n",
       "      <th></th>\n",
       "      <th>Name</th>\n",
       "      <th>Type</th>\n",
       "      <th>Type2</th>\n",
       "      <th>Building</th>\n",
       "      <th>Age</th>\n",
       "      <th>Food</th>\n",
       "      <th>Wood</th>\n",
       "      <th>Gold</th>\n",
       "      <th>Build_Time</th>\n",
       "      <th>Attack_Speed</th>\n",
       "      <th>Movement_Speed</th>\n",
       "      <th>Health</th>\n",
       "      <th>Damage</th>\n",
       "      <th>Accuracy</th>\n",
       "      <th>Melee_Armor</th>\n",
       "      <th>Pierce_Armor</th>\n",
       "      <th>Abilities</th>\n",
       "    </tr>\n",
       "  </thead>\n",
       "  <tbody>\n",
       "    <tr>\n",
       "      <th>0</th>\n",
       "      <td>Archer</td>\n",
       "      <td>Archer</td>\n",
       "      <td></td>\n",
       "      <td>Archery Range</td>\n",
       "      <td>Feudal</td>\n",
       "      <td>0</td>\n",
       "      <td>25</td>\n",
       "      <td>45</td>\n",
       "      <td>35</td>\n",
       "      <td>2</td>\n",
       "      <td>0.96</td>\n",
       "      <td>30</td>\n",
       "      <td>4</td>\n",
       "      <td>80%</td>\n",
       "      <td>0</td>\n",
       "      <td>0</td>\n",
       "      <td></td>\n",
       "    </tr>\n",
       "    <tr>\n",
       "      <th>1</th>\n",
       "      <td>Crossbowman</td>\n",
       "      <td>Archer</td>\n",
       "      <td></td>\n",
       "      <td>Archery Range</td>\n",
       "      <td>Castle</td>\n",
       "      <td>0</td>\n",
       "      <td>25</td>\n",
       "      <td>45</td>\n",
       "      <td>27</td>\n",
       "      <td>2</td>\n",
       "      <td>0.96</td>\n",
       "      <td>35</td>\n",
       "      <td>5</td>\n",
       "      <td>85%</td>\n",
       "      <td>0</td>\n",
       "      <td>0</td>\n",
       "      <td></td>\n",
       "    </tr>\n",
       "    <tr>\n",
       "      <th>2</th>\n",
       "      <td>Arbalest</td>\n",
       "      <td>Archer</td>\n",
       "      <td></td>\n",
       "      <td>Archery Range</td>\n",
       "      <td>Imperial</td>\n",
       "      <td>0</td>\n",
       "      <td>25</td>\n",
       "      <td>45</td>\n",
       "      <td>27</td>\n",
       "      <td>2</td>\n",
       "      <td>0.96</td>\n",
       "      <td>40</td>\n",
       "      <td>6</td>\n",
       "      <td>90%</td>\n",
       "      <td>0</td>\n",
       "      <td>0</td>\n",
       "      <td></td>\n",
       "    </tr>\n",
       "    <tr>\n",
       "      <th>3</th>\n",
       "      <td>Cavalry Archer</td>\n",
       "      <td>Archer</td>\n",
       "      <td>Cavalry</td>\n",
       "      <td>Archery Range</td>\n",
       "      <td>Castle</td>\n",
       "      <td>0</td>\n",
       "      <td>40</td>\n",
       "      <td>60</td>\n",
       "      <td>34</td>\n",
       "      <td>2</td>\n",
       "      <td>1.4</td>\n",
       "      <td>50</td>\n",
       "      <td>6</td>\n",
       "      <td>50%</td>\n",
       "      <td>0</td>\n",
       "      <td>0</td>\n",
       "      <td></td>\n",
       "    </tr>\n",
       "    <tr>\n",
       "      <th>4</th>\n",
       "      <td>Heavy Cavalry Archer</td>\n",
       "      <td>Archer</td>\n",
       "      <td>Cavalry</td>\n",
       "      <td>Archery Range</td>\n",
       "      <td>Imperial</td>\n",
       "      <td>0</td>\n",
       "      <td>40</td>\n",
       "      <td>60</td>\n",
       "      <td>27</td>\n",
       "      <td>2</td>\n",
       "      <td>1.4</td>\n",
       "      <td>60</td>\n",
       "      <td>7</td>\n",
       "      <td>50%</td>\n",
       "      <td>1</td>\n",
       "      <td>0</td>\n",
       "      <td></td>\n",
       "    </tr>\n",
       "  </tbody>\n",
       "</table>\n",
       "</div>"
      ],
      "text/plain": [
       "                   Name    Type    Type2       Building       Age Food Wood  \\\n",
       "0                Archer  Archer           Archery Range    Feudal    0   25   \n",
       "1           Crossbowman  Archer           Archery Range    Castle    0   25   \n",
       "2              Arbalest  Archer           Archery Range  Imperial    0   25   \n",
       "3        Cavalry Archer  Archer  Cavalry  Archery Range    Castle    0   40   \n",
       "4  Heavy Cavalry Archer  Archer  Cavalry  Archery Range  Imperial    0   40   \n",
       "\n",
       "  Gold Build_Time Attack_Speed Movement_Speed Health Damage Accuracy  \\\n",
       "0   45         35            2           0.96     30      4      80%   \n",
       "1   45         27            2           0.96     35      5      85%   \n",
       "2   45         27            2           0.96     40      6      90%   \n",
       "3   60         34            2            1.4     50      6      50%   \n",
       "4   60         27            2            1.4     60      7      50%   \n",
       "\n",
       "  Melee_Armor Pierce_Armor Abilities  \n",
       "0           0            0            \n",
       "1           0            0            \n",
       "2           0            0            \n",
       "3           0            0            \n",
       "4           1            0            "
      ]
     },
     "execution_count": 141,
     "metadata": {},
     "output_type": "execute_result"
    }
   ],
   "source": [
    "unit = pd.DataFrame({\n",
    "    'Name' : list_holder[1],\n",
    "    'Type' : list_holder[2],\n",
    "    'Type2' : list_holder[3],\n",
    "    'Building' : list_holder[4],\n",
    "    'Age' : list_holder[5],\n",
    "    'Food' : list_holder[6],\n",
    "    'Wood' : list_holder[7],\n",
    "    'Gold' : list_holder[8],\n",
    "    'Build_Time' : list_holder[10],\n",
    "    'Attack_Speed' : list_holder[11],\n",
    "    'Movement_Speed' : list_holder[13],\n",
    "    'Health' : list_holder[15],\n",
    "    'Damage' : list_holder[18],\n",
    "    'Accuracy' : list_holder[19],\n",
    "    'Melee_Armor' : list_holder[20],\n",
    "    'Pierce_Armor' : list_holder[21],\n",
    "    'Abilities' : list_holder[22]\n",
    "})\n",
    "unit.head(5)"
   ]
  },
  {
   "cell_type": "code",
   "execution_count": 139,
   "metadata": {},
   "outputs": [
    {
     "name": "stderr",
     "output_type": "stream",
     "text": [
      "C:\\Users\\Diane\\Anaconda3\\lib\\site-packages\\ipykernel_launcher.py:1: SettingWithCopyWarning: \n",
      "A value is trying to be set on a copy of a slice from a DataFrame.\n",
      "Try using .loc[row_indexer,col_indexer] = value instead\n",
      "\n",
      "See the caveats in the documentation: https://pandas.pydata.org/pandas-docs/stable/user_guide/indexing.html#returning-a-view-versus-a-copy\n",
      "  \"\"\"Entry point for launching an IPython kernel.\n"
     ]
    },
    {
     "data": {
      "text/plain": [
       "array(['\\xa0', 'Cavalry', '\\xa0Suicide', 'Gunpowder', 'Suicide', 'Siege',\n",
       "       ''], dtype=object)"
      ]
     },
     "execution_count": 139,
     "metadata": {},
     "output_type": "execute_result"
    }
   ],
   "source": [
    "unit[unit['Type2'] == '\\xa0']['Type2'] = ''"
   ]
  },
  {
   "cell_type": "code",
   "execution_count": 143,
   "metadata": {},
   "outputs": [],
   "source": [
    "unit.to_csv('' ,index = False)"
   ]
  }
 ],
 "metadata": {
  "kernelspec": {
   "display_name": "Python 3",
   "language": "python",
   "name": "python3"
  },
  "language_info": {
   "codemirror_mode": {
    "name": "ipython",
    "version": 3
   },
   "file_extension": ".py",
   "mimetype": "text/x-python",
   "name": "python",
   "nbconvert_exporter": "python",
   "pygments_lexer": "ipython3",
   "version": "3.7.3"
  }
 },
 "nbformat": 4,
 "nbformat_minor": 4
}
