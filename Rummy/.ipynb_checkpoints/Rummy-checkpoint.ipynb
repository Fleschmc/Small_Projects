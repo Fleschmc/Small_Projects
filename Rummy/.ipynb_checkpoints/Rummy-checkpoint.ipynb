{
 "cells": [
  {
   "cell_type": "code",
   "execution_count": 8,
   "id": "358ee07a",
   "metadata": {},
   "outputs": [],
   "source": [
    "import pandas as pd\n",
    "import random"
   ]
  },
  {
   "cell_type": "code",
   "execution_count": 215,
   "id": "8d3e7420",
   "metadata": {},
   "outputs": [],
   "source": [
    "class Card:\n",
    "    def __init__(self, suit, value, order, point_value):\n",
    "        self.suit = suit\n",
    "        self.value = value\n",
    "        self.order = order\n",
    "        self.point_value = point_value\n",
    "        \n",
    "    def show(self):\n",
    "        return (self.value, self.suit)\n",
    "\n",
    "class Deck:\n",
    "    def __init__(self):\n",
    "        self.suits = ['Spades', 'Hearts', 'Diamonds', 'Clubs']\n",
    "        self.values = {'Ace' : {'order' : 14, 'point_value' : 15}, 'King' : {'order' : 13, 'point_value' : 10},\n",
    "                       'Queen' : {'order' : 12, 'point_value' : 10}, 'Jack' : {'order' : 11, 'point_value' : 10},\n",
    "                       '10' : {'order' : 10, 'point_value' : 10}, '9' : {'order' : 9, 'point_value' : 5},\n",
    "                       '8' : {'order' : 8, 'point_value' : 5}, '7' : {'order' : 7, 'point_value' : 5},\n",
    "                       '6' : {'order' : 6, 'point_value' : 5}, '5' : {'order' : 5, 'point_value' : 5},\n",
    "                       '4' : {'order' : 4, 'point_value' : 5}, '3' : {'order' : 3, 'point_value' : 5}, '2' : {'order' : 2, 'point_value' : 5}}\n",
    "        self.deck = self.make_deck()\n",
    "        \n",
    "    def make_deck(self):\n",
    "        deck = []\n",
    "        for suit in self.suits:\n",
    "            for value in self.values:\n",
    "                deck.append(Card(suit, value, self.values[value]['order'], self.values[value]['point_value']))\n",
    "        return deck\n",
    "    \n",
    "    def shuffle(self):\n",
    "        random.shuffle(self.deck)\n",
    "        \n",
    "    def draw(self):\n",
    "        return self.deck.pop()\n",
    "\n",
    "class Pile:\n",
    "    def __init__(self):\n",
    "        self.pile = []\n",
    "        \n",
    "    def show_pile(self):\n",
    "        return [card.show() for card in self.pile]\n",
    "    \n",
    "    def draw(self, card):\n",
    "        index = self.pile.index(card)\n",
    "        to_return = self.pile[index:]\n",
    "        self.pile = self.pile[:index]\n",
    "        return to_return\n",
    "        \n",
    "\n",
    "class Player:\n",
    "    def __init__(self):\n",
    "        self.hand = []\n",
    "        self.hand_points = 0\n",
    "        self.tricks = []\n",
    "        self.trick_points = 0\n",
    "\n",
    "    \n",
    "    def show_hand(self):\n",
    "        return [card.show() for card in self.hand]\n",
    "    \n",
    "    def draw_deck(self, deck):\n",
    "        self.hand.append(deck.draw())\n",
    "        self.hand.sort(key = lambda x: x.order)\n",
    "        \n",
    "    def draw_pile(self, pile, card):\n",
    "        self.hand.extend(pile.draw(card))\n",
    "        self.hand.sort(key = lambda x: x.order)\n",
    "        \n",
    "    def update_points(self):\n",
    "        self.hand_points = -sum([card.point_value for card in self.hand])\n",
    "        self.trick_points = sum([card.point_value for card in self.tricks])\n",
    "        \n",
    "    def discard(self, pile, card):\n",
    "        self.hand.remove(card)\n",
    "        pile.pile.append(card)\n",
    "        self.update_points()\n",
    "        \n",
    "    def check_3or4(hand):\n",
    "        shown_cards = [card.show() for card in hand]\n",
    "        counts = pd.DataFrame(shown_cards, columns = ['value', 'suit'])['value'].value_counts().to_frame().reset_index().rename({'index' : 'value', 'value' : 'count'}, axis=1)\n",
    "        tricks = counts.loc[counts['count'] >= 3, 'value'].to_list()\n",
    "        return [card for card in hand if card.value in tricks]\n",
    "    \n",
    "    def check_straight(hand):\n",
    "        shown_cards = [card.show() for card in hand]\n",
    "        lists = [[card for card in hand if card.suit == suit] for suit in ['Spades', 'Clubs', 'Diamonds', 'Hearts']]\n",
    "        tricks = []\n",
    "        for sub in lists:\n",
    "            if len(sub) >= 3:\n",
    "                for i, card in enumerate(sub[:-2]):\n",
    "                    if card.order == sub[i + 1].order - 1 and sub[i + 1].order == sub[i + 2].order - 1:\n",
    "                        tricks.extend([sub[i], sub[i + 1], sub[i + 2]])\n",
    "        return tricks\n",
    "        \n",
    "    def check_tricks(self):\n",
    "        # check for 3/4 of a kind\n",
    "        tricks_to_play = check_3or4(self.hand)\n",
    "        tricks_to_play.extend(check_straight(self.hand))\n",
    "        self.tricks.extend(tricks_to_play)\n",
    "        self.hand = [card for card in self.hand if card not in tricks_to_play]\n",
    "        "
   ]
  },
  {
   "cell_type": "code",
   "execution_count": 216,
   "id": "0f87ce60",
   "metadata": {},
   "outputs": [],
   "source": [
    "class Rummy:\n",
    "    def __init__(self, num_players):\n",
    "        self.game_deck = Deck()\n",
    "        self.game_pile = Pile()\n",
    "        self.players = [Player() for _ in range(num_players)]\n",
    "        \n",
    "    def initial_deal(self):\n",
    "        # Shuffle the cards\n",
    "        self.game_deck.shuffle()\n",
    "        \n",
    "        # Deal the cards\n",
    "        for _ in range(7):\n",
    "            for player in self.players:\n",
    "                player.draw_deck(self.game_deck)\n",
    "    \n",
    "    def play_round(self):\n",
    "        # Players must first draw and last discard \n",
    "        for i, player in enumerate(self.players):\n",
    "#             print(i, self.game_pile.show_pile())\n",
    "            if i == 1:\n",
    "                print(f'Hand points: {player.hand_points} -- Trick points: {player.trick_points}')\n",
    "                print('Hand:', player.show_hand())\n",
    "                print('Tricks:', [card.show() for card in player.tricks])\n",
    "            # draw logic\n",
    "            if self.game_pile.pile and self.game_deck.deck:\n",
    "                if random.randint(0, 1):\n",
    "                    player.draw_deck(self.game_deck)\n",
    "                else:\n",
    "                    player.draw_pile(self.game_pile, random.choice(self.game_pile.pile))\n",
    "            elif self.game_deck.deck:\n",
    "                player.draw_deck(self.game_deck)\n",
    "            elif self.game_pile.pile:\n",
    "                player.draw_pile(self.game_pile, random.choice(self.game_pile.pile))\n",
    "                \n",
    "            player.check_tricks()\n",
    "            \n",
    "            #discard\n",
    "            player.discard(self.game_pile, random.choice(player.hand))"
   ]
  },
  {
   "cell_type": "code",
   "execution_count": 223,
   "id": "feff17b2",
   "metadata": {
    "scrolled": true
   },
   "outputs": [
    {
     "name": "stdout",
     "output_type": "stream",
     "text": [
      "{'Ace': {'order': 14, 'point_value': 15}, 'King': {'order': 13, 'point_value': 10}, 'Queen': {'order': 12, 'point_value': 10}, 'Jack': {'order': 11, 'point_value': 10}, '10': {'order': 10, 'point_value': 10}, '9': {'order': 9, 'point_value': 5}, '8': {'order': 8, 'point_value': 5}, '7': {'order': 7, 'point_value': 5}, '6': {'order': 6, 'point_value': 5}, '5': {'order': 5, 'point_value': 5}, '4': {'order': 4, 'point_value': 5}, '3': {'order': 3, 'point_value': 5}, '2': {'order': 2, 'point_value': 5}}\n",
      "0\n"
     ]
    },
    {
     "ename": "IndexError",
     "evalue": "list index out of range",
     "output_type": "error",
     "traceback": [
      "\u001b[0;31m---------------------------------------------------------------------------\u001b[0m",
      "\u001b[0;31mIndexError\u001b[0m                                Traceback (most recent call last)",
      "Input \u001b[0;32mIn [223]\u001b[0m, in \u001b[0;36m<module>\u001b[0;34m\u001b[0m\n\u001b[1;32m      4\u001b[0m \u001b[38;5;28;01mfor\u001b[39;00m _ \u001b[38;5;129;01min\u001b[39;00m \u001b[38;5;28mrange\u001b[39m(\u001b[38;5;241m10\u001b[39m):\n\u001b[1;32m      5\u001b[0m     \u001b[38;5;28mprint\u001b[39m(_)\n\u001b[0;32m----> 6\u001b[0m     \u001b[43mgame\u001b[49m\u001b[38;5;241;43m.\u001b[39;49m\u001b[43mplay_round\u001b[49m\u001b[43m(\u001b[49m\u001b[43m)\u001b[49m\n",
      "Input \u001b[0;32mIn [216]\u001b[0m, in \u001b[0;36mRummy.play_round\u001b[0;34m(self)\u001b[0m\n\u001b[1;32m     35\u001b[0m player\u001b[38;5;241m.\u001b[39mcheck_tricks()\n\u001b[1;32m     37\u001b[0m \u001b[38;5;66;03m#discard\u001b[39;00m\n\u001b[0;32m---> 38\u001b[0m player\u001b[38;5;241m.\u001b[39mdiscard(\u001b[38;5;28mself\u001b[39m\u001b[38;5;241m.\u001b[39mgame_pile, \u001b[43mrandom\u001b[49m\u001b[38;5;241;43m.\u001b[39;49m\u001b[43mchoice\u001b[49m\u001b[43m(\u001b[49m\u001b[43mplayer\u001b[49m\u001b[38;5;241;43m.\u001b[39;49m\u001b[43mhand\u001b[49m\u001b[43m)\u001b[49m)\n",
      "File \u001b[0;32m/usr/lib/python3.10/random.py:378\u001b[0m, in \u001b[0;36mRandom.choice\u001b[0;34m(self, seq)\u001b[0m\n\u001b[1;32m    376\u001b[0m \u001b[38;5;124;03m\"\"\"Choose a random element from a non-empty sequence.\"\"\"\u001b[39;00m\n\u001b[1;32m    377\u001b[0m \u001b[38;5;66;03m# raises IndexError if seq is empty\u001b[39;00m\n\u001b[0;32m--> 378\u001b[0m \u001b[38;5;28;01mreturn\u001b[39;00m \u001b[43mseq\u001b[49m\u001b[43m[\u001b[49m\u001b[38;5;28;43mself\u001b[39;49m\u001b[38;5;241;43m.\u001b[39;49m\u001b[43m_randbelow\u001b[49m\u001b[43m(\u001b[49m\u001b[38;5;28;43mlen\u001b[39;49m\u001b[43m(\u001b[49m\u001b[43mseq\u001b[49m\u001b[43m)\u001b[49m\u001b[43m)\u001b[49m\u001b[43m]\u001b[49m\n",
      "\u001b[0;31mIndexError\u001b[0m: list index out of range"
     ]
    }
   ],
   "source": [
    "game = Rummy(2)\n",
    "game.initial_deal()\n",
    "print(game.game_deck.deck[0].value)\n",
    "for _ in range(10):\n",
    "    print(_)\n",
    "    game.play_round()"
   ]
  },
  {
   "cell_type": "code",
   "execution_count": 209,
   "id": "4b974206",
   "metadata": {
    "scrolled": true
   },
   "outputs": [
    {
     "data": {
      "text/plain": [
       "[((2, 'Spades'), 2),\n",
       " ((4, 'Spades'), 4),\n",
       " ((3, 'Clubs'), 3),\n",
       " ((6, 'Diamonds'), 6),\n",
       " ((5, 'Spades'), 5),\n",
       " ((10, 'Hearts'), 10),\n",
       " ((14, 'Spades'), 14)]"
      ]
     },
     "execution_count": 209,
     "metadata": {},
     "output_type": "execute_result"
    }
   ],
   "source": [
    "hand = game.players[0].hand\n",
    "shown_cards = [(card.show(), card.value) for card in hand]\n",
    "shown_cards"
   ]
  },
  {
   "cell_type": "code",
   "execution_count": 136,
   "id": "3ed1304b",
   "metadata": {},
   "outputs": [
    {
     "data": {
      "text/plain": [
       "[<__main__.Card at 0x7fcc0e3662c0>,\n",
       " <__main__.Card at 0x7fcc0e366260>,\n",
       " <__main__.Card at 0x7fcc0e3675b0>,\n",
       " <__main__.Card at 0x7fcc0e366200>,\n",
       " <__main__.Card at 0x7fcc0e367f40>,\n",
       " <__main__.Card at 0x7fcc0e365f90>,\n",
       " <__main__.Card at 0x7fcc0e364d90>,\n",
       " <__main__.Card at 0x7fcc0e366e90>,\n",
       " <__main__.Card at 0x7fcc0e365ed0>,\n",
       " <__main__.Card at 0x7fcc0e364a30>]"
      ]
     },
     "execution_count": 136,
     "metadata": {},
     "output_type": "execute_result"
    }
   ],
   "source": []
  },
  {
   "cell_type": "code",
   "execution_count": 180,
   "id": "2f46746d",
   "metadata": {},
   "outputs": [
    {
     "data": {
      "text/plain": [
       "[<__main__.Card at 0x7fcc0e3662c0>,\n",
       " <__main__.Card at 0x7fcc0e366260>,\n",
       " <__main__.Card at 0x7fcc0e3675b0>]"
      ]
     },
     "execution_count": 180,
     "metadata": {},
     "output_type": "execute_result"
    }
   ],
   "source": [
    "def check_straight(hand):\n",
    "    shown_cards = [card.show() for card in hand]\n",
    "    lists = [[card for card in hand if card.suit == suit] for suit in ['Spades', 'Clubs', 'Diamonds', 'Hearts']]\n",
    "    tricks = []\n",
    "    for sub in lists:\n",
    "        if len(sub) >= 3:\n",
    "            for i, card in enumerate(sub[:-2]):\n",
    "                if card.point_value == sub[i + 1].point_value - 1 and sub[i + 1].point_value == sub[i + 2].point_value - 1:\n",
    "                    tricks.extend([sub[i], sub[i + 1], sub[i + 2]])\n",
    "    return tricks\n",
    "            \n",
    "c = check_straight(hand)\n",
    "c"
   ]
  },
  {
   "cell_type": "code",
   "execution_count": 162,
   "id": "e6704e24",
   "metadata": {},
   "outputs": [
    {
     "data": {
      "text/plain": [
       "[(('2', 'Hearts'), 2),\n",
       " (('3', 'Hearts'), 3),\n",
       " (('4', 'Hearts'), 4),\n",
       " (('6', 'Hearts'), 6),\n",
       " (('King', 'Hearts'), 13)]"
      ]
     },
     "execution_count": 162,
     "metadata": {},
     "output_type": "execute_result"
    }
   ],
   "source": [
    "[(card.show(), card.point_value) for card in c[:-1]]"
   ]
  },
  {
   "cell_type": "code",
   "execution_count": 178,
   "id": "5345ccae",
   "metadata": {},
   "outputs": [
    {
     "data": {
      "text/plain": [
       "[('2', 'Hearts'), ('3', 'Hearts'), ('4', 'Hearts')]"
      ]
     },
     "execution_count": 178,
     "metadata": {},
     "output_type": "execute_result"
    }
   ],
   "source": [
    "tricks = []\n",
    "for i, card in enumerate(c[:-2]):\n",
    "    if card.point_value == c[i + 1].point_value - 1 and c[i + 1].point_value == c[i + 2].point_value - 1:\n",
    "        tricks.extend([c[i], c[i + 1], c[i + 2]])\n",
    "        \n",
    "\n",
    "[card.show() for card in tricks]"
   ]
  }
 ],
 "metadata": {
  "kernelspec": {
   "display_name": "Python 3 (ipykernel)",
   "language": "python",
   "name": "python3"
  },
  "language_info": {
   "codemirror_mode": {
    "name": "ipython",
    "version": 3
   },
   "file_extension": ".py",
   "mimetype": "text/x-python",
   "name": "python",
   "nbconvert_exporter": "python",
   "pygments_lexer": "ipython3",
   "version": "3.10.9"
  }
 },
 "nbformat": 4,
 "nbformat_minor": 5
}
